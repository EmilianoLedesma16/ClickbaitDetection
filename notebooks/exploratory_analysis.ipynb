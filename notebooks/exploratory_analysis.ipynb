{
 "cells": [
  {
   "cell_type": "code",
   "execution_count": 2,
   "id": "7d2ccedf",
   "metadata": {},
   "outputs": [],
   "source": [
    "# Añadir el directorio 'src' al sys.path\n",
    "import sys\n",
    "import os"
   ]
  },
  {
   "cell_type": "code",
   "execution_count": 3,
   "id": "9009aaab",
   "metadata": {},
   "outputs": [],
   "source": [
    "# Obtener la ruta absoluta de la carpeta 'src' para que sea accesible desde el notebook\n",
    "sys.path.append(os.path.abspath(os.path.join('..', 'src')))"
   ]
  },
  {
   "cell_type": "code",
   "execution_count": 4,
   "id": "28822e07",
   "metadata": {},
   "outputs": [],
   "source": [
    "# Importar la función de preprocesamiento\n",
    "from preprocessing import clean_text_spacy"
   ]
  },
  {
   "cell_type": "code",
   "execution_count": 5,
   "id": "2b60c1d0",
   "metadata": {},
   "outputs": [],
   "source": [
    "# Importar pandas para cargar y manipular el dataset\n",
    "import pandas as pd"
   ]
  },
  {
   "cell_type": "code",
   "execution_count": 6,
   "id": "6db30244",
   "metadata": {},
   "outputs": [],
   "source": [
    "# Cargar el dataset\n",
    "df = pd.read_csv(\"../data/TA1C_dataset_detection_train.csv\")"
   ]
  },
  {
   "cell_type": "code",
   "execution_count": 7,
   "id": "88f11158",
   "metadata": {},
   "outputs": [
    {
     "name": "stdout",
     "output_type": "stream",
     "text": [
      "              Tweet ID  Tweet Date Media Name Media Origin  \\\n",
      "0  1302968016477589504  07-09-2020    El País      Uruguay   \n",
      "1  1296805148950515713  21-08-2020    El País      Uruguay   \n",
      "2  1303065732884967426  07-09-2020    El País      Uruguay   \n",
      "3  1302462441520074757  06-09-2020    El País      Uruguay   \n",
      "4  1301763104435589120  04-09-2020    El País      Uruguay   \n",
      "\n",
      "                                         Teaser Text  Tag Value  \n",
      "0  #SegundaDivisión  | La fortaleza del ataque: R...         No  \n",
      "1  Jorge Lanata a los argentinos que se van a Uru...         No  \n",
      "2  Raffo: “Los montevideanos deben estar alerta p...         No  \n",
      "3  Ecos del universo: joven uruguayo desentraña (...  Clickbait  \n",
      "4  Propuesta quinquenal de ANEP: aumento de 3,8% ...         No  \n"
     ]
    }
   ],
   "source": [
    "# Verificar las primeras filas del dataset\n",
    "print(df.head())"
   ]
  },
  {
   "cell_type": "code",
   "execution_count": 8,
   "id": "d60704d9",
   "metadata": {},
   "outputs": [],
   "source": [
    "# Aplicar preprocesamiento al texto (limpiar el 'Teaser Text')\n",
    "df['cleaned_text'] = df['Teaser Text'].apply(clean_text_spacy)"
   ]
  },
  {
   "cell_type": "code",
   "execution_count": 9,
   "id": "053354e3",
   "metadata": {},
   "outputs": [
    {
     "name": "stdout",
     "output_type": "stream",
     "text": [
      "\n",
      "Ejemplos de texto original vs texto limpio:\n"
     ]
    }
   ],
   "source": [
    "# Mostrar algunas filas con el texto original y el texto limpio\n",
    "print(\"\\nEjemplos de texto original vs texto limpio:\")"
   ]
  },
  {
   "cell_type": "code",
   "execution_count": 10,
   "id": "6019c598",
   "metadata": {},
   "outputs": [
    {
     "name": "stdout",
     "output_type": "stream",
     "text": [
      "                                         Teaser Text  \\\n",
      "0  #SegundaDivisión  | La fortaleza del ataque: R...   \n",
      "1  Jorge Lanata a los argentinos que se van a Uru...   \n",
      "2  Raffo: “Los montevideanos deben estar alerta p...   \n",
      "3  Ecos del universo: joven uruguayo desentraña (...   \n",
      "4  Propuesta quinquenal de ANEP: aumento de 3,8% ...   \n",
      "\n",
      "                                        cleaned_text  \n",
      "0  segundadivisión    la fortaleza del ataque ram...  \n",
      "1  jorge lanata los argentinos que se van uruguay...  \n",
      "2  raffo \" los montevideanos deben estar alerta p...  \n",
      "3  ecos del universo joven uruguayo desentraña y ...  \n",
      "4  propuesta quinquenal de anep aumento de   del ...  \n"
     ]
    }
   ],
   "source": [
    "print(df[['Teaser Text', 'cleaned_text']].head())"
   ]
  },
  {
   "cell_type": "code",
   "execution_count": 11,
   "id": "ecf702c3",
   "metadata": {},
   "outputs": [
    {
     "name": "stdout",
     "output_type": "stream",
     "text": [
      "Dataset con texto limpio guardado en '../data/TA1C_dataset_detection_train_cleaned.csv'\n"
     ]
    }
   ],
   "source": [
    "# Guardar el dataset con el texto normalizado\n",
    "df.to_csv(\"../data/TA1C_dataset_detection_train_cleaned.csv\", index=False)\n",
    "print(\"Dataset con texto limpio guardado en '../data/TA1C_dataset_detection_train_cleaned.csv'\")"
   ]
  }
 ],
 "metadata": {
  "kernelspec": {
   "display_name": ".venv",
   "language": "python",
   "name": "python3"
  },
  "language_info": {
   "codemirror_mode": {
    "name": "ipython",
    "version": 3
   },
   "file_extension": ".py",
   "mimetype": "text/x-python",
   "name": "python",
   "nbconvert_exporter": "python",
   "pygments_lexer": "ipython3",
   "version": "3.12.1"
  }
 },
 "nbformat": 4,
 "nbformat_minor": 5
}
