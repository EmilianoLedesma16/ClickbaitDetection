{
 "cells": [
  {
   "cell_type": "markdown",
   "id": "07840f62",
   "metadata": {},
   "source": [
    "# Pruebas sobre el dataset dev"
   ]
  },
  {
   "cell_type": "markdown",
   "id": "41b51e1e",
   "metadata": {},
   "source": [
    "## Primera parte. Entrenar modelo sobre dataset completo"
   ]
  },
  {
   "cell_type": "code",
   "execution_count": 1,
   "id": "42fff065",
   "metadata": {},
   "outputs": [],
   "source": [
    "import pandas as pd\n",
    "import os\n",
    "import sys\n",
    "\n",
    "sys.path.append(os.path.abspath(os.path.join('..', 'src')))\n"
   ]
  },
  {
   "cell_type": "code",
   "execution_count": 2,
   "id": "b085b93d",
   "metadata": {},
   "outputs": [],
   "source": [
    "# Cargar el conjunto de entrenamiento\n",
    "df = pd.read_csv('../data/TA1C_dataset_detection_train.csv')\n",
    "df = df.drop(['Tweet Date', 'Media Name', 'Media Origin'], axis=1)"
   ]
  },
  {
   "cell_type": "code",
   "execution_count": 3,
   "id": "74a53ba7",
   "metadata": {},
   "outputs": [],
   "source": [
    "from preprocessing import normalize_text\n",
    "\n",
    "df[\"cleaned_lemmatized_text\"] = df['Teaser Text'].apply(lambda x: normalize_text(x, mode=\"text_cleaning\")).apply(lambda x: normalize_text(x, mode=\"lemmatization\"))\n",
    "# Si cada celda es una lista de tokens, conviértela a string\n",
    "df['cleaned_lemmatized_text'] = df['cleaned_lemmatized_text'].apply(lambda tokens: ' '.join(tokens) if isinstance(tokens, list) else tokens)"
   ]
  },
  {
   "cell_type": "code",
   "execution_count": 4,
   "id": "a1443062",
   "metadata": {},
   "outputs": [
    {
     "name": "stdout",
     "output_type": "stream",
     "text": [
      "Configuración: ngram_range=(1, 1), representación=tfidf\n",
      "Dimensiones de X: (2800, 10584)\n",
      "Configuración: ngram_range=(1, 2), representación=tfidf\n",
      "Dimensiones de X: (2800, 47785)\n",
      "Configuración: ngram_range=(1, 3), representación=tfidf\n",
      "Dimensiones de X: (2800, 98926)\n",
      "Configuración: ngram_range=(1, 2), representación=binary\n",
      "Dimensiones de X: (2800, 47785)\n",
      "Configuración: ngram_range=(1, 2), representación=frequency\n",
      "Dimensiones de X: (2800, 47785)\n"
     ]
    }
   ],
   "source": [
    "from sklearn.feature_extraction.text import TfidfVectorizer\n",
    "\n",
    "# Probar diferentes configuraciones de n-gramas y representaciones\n",
    "configurations = [\n",
    "    {\"ngram_range\": (1, 1), \"representation\": \"tfidf\"},  # Unigramas con TF-IDF\n",
    "    {\"ngram_range\": (1, 2), \"representation\": \"tfidf\"},  # Unigramas + Bigramas con TF-IDF\n",
    "    {\"ngram_range\": (1, 3), \"representation\": \"tfidf\"},  # Unigramas + Bigramas + Trigramas con TF-IDF\n",
    "    {\"ngram_range\": (1, 2), \"representation\": \"binary\"},  # Unigramas + Bigramas con representación binaria\n",
    "    {\"ngram_range\": (1, 2), \"representation\": \"frequency\"},  # Unigramas + Bigramas con frecuencia\n",
    "]\n",
    "\n",
    "for config in configurations:\n",
    "    print(f\"Configuración: ngram_range={config['ngram_range']}, representación={config['representation']}\")\n",
    "    \n",
    "    # Configurar el vectorizador\n",
    "    if config[\"representation\"] == \"tfidf\":\n",
    "        vectorizer = TfidfVectorizer(ngram_range=config[\"ngram_range\"])\n",
    "    elif config[\"representation\"] == \"binary\":\n",
    "        vectorizer = TfidfVectorizer(ngram_range=config[\"ngram_range\"], binary=True)\n",
    "    elif config[\"representation\"] == \"frequency\":\n",
    "        vectorizer = TfidfVectorizer(ngram_range=config[\"ngram_range\"], use_idf=False)\n",
    "    \n",
    "    # Crear representaciones para el conjunto de entrenamiento y desarrollo\n",
    "    X = vectorizer.fit_transform(df['cleaned_lemmatized_text'])\n",
    "    \n",
    "    # Verificar las dimensiones\n",
    "    print(f\"Dimensiones de X: {X.shape}\")"
   ]
  },
  {
   "cell_type": "code",
   "execution_count": 5,
   "id": "552347da",
   "metadata": {},
   "outputs": [
    {
     "name": "stdout",
     "output_type": "stream",
     "text": [
      "Dimensiones reducidas de X_reduced: (2800, 100)\n"
     ]
    }
   ],
   "source": [
    "from sklearn.decomposition import TruncatedSVD\n",
    "\n",
    "# Reducir dimensionalidad con TruncatedSVD\n",
    "svd = TruncatedSVD(n_components=100, random_state=0)  # Reducir a 100 dimensiones\n",
    "X_reduced = svd.fit_transform(X)\n",
    "\n",
    "# Verificar las dimensiones después de la reducción\n",
    "print(f\"Dimensiones reducidas de X_reduced: {X_reduced.shape}\")"
   ]
  },
  {
   "cell_type": "code",
   "execution_count": 6,
   "id": "b977abe1",
   "metadata": {},
   "outputs": [],
   "source": [
    "# Convertir etiquetas de texto a valores numéricos\n",
    "label_mapping = {'Clickbait': 1, 'No': 0}\n",
    "df['Tag Value'] = df['Tag Value'].map(label_mapping)\n",
    "y = df['Tag Value']"
   ]
  },
  {
   "cell_type": "code",
   "execution_count": 7,
   "id": "da45671e",
   "metadata": {},
   "outputs": [
    {
     "name": "stdout",
     "output_type": "stream",
     "text": [
      "Multi-layer Perceptron (MLPClassifier):\n",
      "F1-macro scores por fold: [0.67875994 0.72960786 0.67733244 0.77074631 0.70552885]\n",
      "F1-macro promedio: 0.7124\n"
     ]
    }
   ],
   "source": [
    "from sklearn.neural_network import MLPClassifier\n",
    "from sklearn.model_selection import cross_val_score\n",
    "\n",
    "# Definir el modelo de MLP\n",
    "mlp_model = MLPClassifier(hidden_layer_sizes=(50,), max_iter=2000, alpha=0.001, solver='adam', random_state=0)\n",
    "\n",
    "# Evaluar el modelo con validación cruzada usando las representaciones reducidas (X_train_reduced)\n",
    "mlp_scores = cross_val_score(mlp_model, X_reduced, y, cv=5, scoring='f1_macro')\n",
    "\n",
    "# Imprimir los resultados\n",
    "print(\"Multi-layer Perceptron (MLPClassifier):\")\n",
    "print(f\"F1-macro scores por fold: {mlp_scores}\")\n",
    "print(f\"F1-macro promedio: {mlp_scores.mean():.4f}\")"
   ]
  }
 ],
 "metadata": {
  "kernelspec": {
   "display_name": "venv",
   "language": "python",
   "name": "python3"
  },
  "language_info": {
   "codemirror_mode": {
    "name": "ipython",
    "version": 3
   },
   "file_extension": ".py",
   "mimetype": "text/x-python",
   "name": "python",
   "nbconvert_exporter": "python",
   "pygments_lexer": "ipython3",
   "version": "3.12.3"
  }
 },
 "nbformat": 4,
 "nbformat_minor": 5
}
