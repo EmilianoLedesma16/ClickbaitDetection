{
 "cells": [
  {
   "cell_type": "markdown",
   "id": "4433a332",
   "metadata": {},
   "source": [
    "# Parte dos. Predecir sobre el dataset dev"
   ]
  },
  {
   "cell_type": "code",
   "execution_count": 1,
   "id": "9107cee8",
   "metadata": {},
   "outputs": [],
   "source": [
    "import pandas as pd\n",
    "import sys\n",
    "import os\n",
    "\n",
    "df = pd.read_csv('../data/TA1C_dataset_detection_dev.csv')\n",
    "\n",
    "df = df.drop(['Tweet Date', 'Media Name', 'Media Origin'], axis=1)"
   ]
  },
  {
   "cell_type": "code",
   "execution_count": 2,
   "id": "f905cd9c",
   "metadata": {},
   "outputs": [],
   "source": [
    "# Obtener la ruta absoluta de la carpeta 'src' para que sea accesible desde el notebook\n",
    "sys.path.append(os.path.abspath(os.path.join('..', 'src')))\n",
    "\n",
    "from preprocessing import normalize_text\n",
    "\n",
    "df['normalized_text'] = df['Teaser Text'].apply(lambda x: normalize_text(x, mode=\"text_cleaning\")).apply(lambda x: normalize_text(x, mode=\"lemmatization\"))\n",
    "# Si cada celda es una lista de tokens, conviértela a string\n",
    "df['normalized_text'] = df['normalized_text'].apply(lambda tokens: ' '.join(tokens) if isinstance(tokens, list) else tokens)\n",
    "\n",
    "X = df['normalized_text']\n"
   ]
  },
  {
   "cell_type": "code",
   "execution_count": 4,
   "id": "9ca4980f",
   "metadata": {},
   "outputs": [],
   "source": [
    "import joblib\n",
    "\n",
    "mlp_model = joblib.load('../model/mlp_model.joblib')\n",
    "vectorizer = joblib.load('../model/vectorizer.joblib')\n",
    "svd = joblib.load('../model/svd.joblib')\n",
    "\n",
    "X_vect = vectorizer.transform(X)\n",
    "X_reduced = svd.transform(X_vect)\n",
    "y_pred = mlp_model.predict(X_reduced)\n",
    "\n",
    "df['Tag Value'] = y_pred\n",
    "\n",
    "label_mapping = {\n",
    "    1 : 'Clickbait',\n",
    "    0 : 'No'\n",
    "}\n",
    "\n",
    "df['Tag Value'] = df['Tag Value'].map(label_mapping)\n",
    "\n",
    "df = df.drop(['Teaser Text', 'normalized_text'], axis=1)\n",
    "\n",
    "df.to_csv('../data_dev/detection.csv', index=False)"
   ]
  },
  {
   "cell_type": "code",
   "execution_count": null,
   "id": "d4b40c0b",
   "metadata": {},
   "outputs": [],
   "source": []
  }
 ],
 "metadata": {
  "kernelspec": {
   "display_name": "venv",
   "language": "python",
   "name": "python3"
  },
  "language_info": {
   "codemirror_mode": {
    "name": "ipython",
    "version": 3
   },
   "file_extension": ".py",
   "mimetype": "text/x-python",
   "name": "python",
   "nbconvert_exporter": "python",
   "pygments_lexer": "ipython3",
   "version": "3.12.3"
  }
 },
 "nbformat": 4,
 "nbformat_minor": 5
}
